{
 "cells": [
  {
   "cell_type": "markdown",
   "metadata": {},
   "source": [
    "# Lecture 19 - Natural Language Generation\n",
    "\n",
    "In this notebook we will learn how to generate natural language using transformer language models.\n",
    "\n",
    "Below is the overview of this notebook.\n",
    "\n",
    "1. Test different decoding methods on GPT-2\n",
    "\n",
    "2. Fine tune GPT-2 to tweet like a Twitter user\n",
    "\n",
    "3. Generate controlled text using CTRL"
   ]
  },
  {
   "cell_type": "code",
   "execution_count": 6,
   "metadata": {},
   "outputs": [
    {
     "ename": "SyntaxError",
     "evalue": "invalid syntax (<ipython-input-6-b4d73bdd6f26>, line 2)",
     "output_type": "error",
     "traceback": [
      "\u001b[1;36m  File \u001b[1;32m\"<ipython-input-6-b4d73bdd6f26>\"\u001b[1;36m, line \u001b[1;32m2\u001b[0m\n\u001b[1;33m    [![Open In Colab](https://colab.research.google.com/assets/colab-badge.svg)](https://colab.research.google.com/github/googlecolab/colabtools/blob/master/notebooks/colab-github-demo.ipynb)\u001b[0m\n\u001b[1;37m     ^\u001b[0m\n\u001b[1;31mSyntaxError\u001b[0m\u001b[1;31m:\u001b[0m invalid syntax\n"
     ]
    }
   ],
   "source": [
    "markdown\n",
    "[![Open In Colab](https://colab.research.google.com/assets/colab-badge.svg)](https://colab.research.google.com/github/googlecolab/colabtools/blob/master/notebooks/colab-github-demo.ipynb)"
   ]
  },
  {
   "cell_type": "code",
   "execution_count": null,
   "metadata": {},
   "outputs": [],
   "source": [
    "!pip install transformers"
   ]
  },
  {
   "cell_type": "code",
   "execution_count": 2,
   "metadata": {},
   "outputs": [],
   "source": [
    "from transformers import AutoTokenizer,AutoModelForCausalLM\n",
    "from transformers import pipeline\n",
    "\n",
    "import sqlite3, sys, os\n",
    "import pandas as pd\n",
    "import scripts.TextAnalysis as ta\n",
    "from wordcloud import WordCloud, STOPWORDS, ImageColorGenerator\n",
    "from collections import Counter \n",
    "\n",
    "import matplotlib.pyplot as plt\n",
    "import seaborn as sns"
   ]
  },
  {
   "cell_type": "markdown",
   "metadata": {},
   "source": [
    "## Helper Functions\n",
    "\n",
    "We will use the function `display_text` to display the output generated text."
   ]
  },
  {
   "cell_type": "code",
   "execution_count": 3,
   "metadata": {},
   "outputs": [],
   "source": [
    "def display_text(outputs):\n",
    "    for count,output in enumerate(outputs):\n",
    "        text = output['generated_text']\n",
    "        text = text.replace(\"\\n\",\" \").replace(\"\\r\",\" \")\n",
    "        print(f\"{count}: {text}\")\n",
    "    return None"
   ]
  },
  {
   "cell_type": "markdown",
   "metadata": {},
   "source": [
    "# Decoding Methods\n",
    "\n",
    "We will begin by testing diffrenent decoding methods for generating text from a language model.  The methods include\n",
    "\n",
    "1. Greedy search\n",
    "\n",
    "2. Beam search\n",
    "\n",
    "3. Sampling\n",
    "\n",
    "4. Sampling with temperature\n",
    "\n",
    "5. Top-k sampling\n",
    "\n",
    "6. Top-p sampling \n",
    "\n",
    "Much of this code comes from the following blog:\n",
    "\n",
    "https://huggingface.co/blog/how-to-generate"
   ]
  },
  {
   "cell_type": "markdown",
   "metadata": {},
   "source": [
    "## Load GPT-2\n",
    "\n",
    "We will be generating text using the GPT-2 transformer.  We set `model_name = \"gpt-2\"` and then create `generator` with the `pipeline` function.  `generator` will be a function that lets us generate text very easily once we specify a model.  It automatically loads the proper tokenizer for the model, tokenizes the text, and generates the text.  "
   ]
  },
  {
   "cell_type": "code",
   "execution_count": 4,
   "metadata": {},
   "outputs": [
    {
     "name": "stderr",
     "output_type": "stream",
     "text": [
      "Some weights of GPT2Model were not initialized from the model checkpoint at gpt2 and are newly initialized: ['h.0.attn.masked_bias', 'h.1.attn.masked_bias', 'h.2.attn.masked_bias', 'h.3.attn.masked_bias', 'h.4.attn.masked_bias', 'h.5.attn.masked_bias', 'h.6.attn.masked_bias', 'h.7.attn.masked_bias', 'h.8.attn.masked_bias', 'h.9.attn.masked_bias', 'h.10.attn.masked_bias', 'h.11.attn.masked_bias']\n",
      "You should probably TRAIN this model on a down-stream task to be able to use it for predictions and inference.\n"
     ]
    },
    {
     "name": "stdout",
     "output_type": "stream",
     "text": [
      "Wall time: 9.63 s\n"
     ]
    }
   ],
   "source": [
    "%%time\n",
    "model_name = \"gpt2\"\n",
    "generator = pipeline('text-generation',model=model_name)"
   ]
  },
  {
   "cell_type": "markdown",
   "metadata": {},
   "source": [
    "## Set Input Parameters\n",
    "\n",
    "We need to set some input parameters to generate text.\n",
    "\n",
    "1. `input_text` = the starting text string for your generated text\n",
    "\n",
    "2. `max_length` = the number of words in your generated text\n",
    "\n",
    "3. `num_return_sequences` = number of texts you want to generate (this is for the sampling methods)"
   ]
  },
  {
   "cell_type": "code",
   "execution_count": 43,
   "metadata": {},
   "outputs": [],
   "source": [
    "input_text = \"Joe Biden's infrastructure bill is\"\n",
    "max_length = 30\n",
    "num_return_sequences = 5"
   ]
  },
  {
   "cell_type": "markdown",
   "metadata": {},
   "source": [
    "## Greedy Search\n",
    "\n",
    "To use greedy search, we call `generator` with the `input_text`, `max_length`, and set `do_sample=False`.  The output of `generator` is `outputs` which is a list of the generated text objects.  We use `display_text` to print out the generated text. If you want to learn about the exact structure of `outputs`, you can look at the details of `display_text`."
   ]
  },
  {
   "cell_type": "code",
   "execution_count": 44,
   "metadata": {},
   "outputs": [
    {
     "name": "stdout",
     "output_type": "stream",
     "text": [
      "Greedy search\n",
      "Model = gpt2\n",
      "--------------------------------------------------\n",
      "0: Joe Biden's infrastructure bill is a disaster. It's a disaster for the American people. It's a disaster for the American economy. It's a\n"
     ]
    }
   ],
   "source": [
    "outputs =generator(input_text, \n",
    "                         max_length=max_length, \n",
    "                           do_sample = False,\n",
    "                        pad_token_id = 50256)\n",
    "\n",
    "print(f\"Greedy search\\nModel = {model_name}\\n\"+ 50*\"-\")\n",
    "display_text(outputs)"
   ]
  },
  {
   "cell_type": "markdown",
   "metadata": {},
   "source": [
    "## Beam Search\n",
    "\n",
    "To use beam search we have to set the number of beams `num_beams`.  Then we use `generator` with a few additional parameters:\n",
    "\n",
    "1. `early_stopping=True` so that generation is finished when all beams reach the End Of Sentence (EOS) token.\n",
    "\n",
    "2. `num_beams=num_beams` so we track `num_beams` beams while generating the text."
   ]
  },
  {
   "cell_type": "code",
   "execution_count": 45,
   "metadata": {},
   "outputs": [
    {
     "name": "stdout",
     "output_type": "stream",
     "text": [
      "Beam search with 5 beams:\n",
      "Model = gpt2\n",
      "--------------------------------------------------\n",
      "0: Joe Biden's infrastructure bill is a disaster. It's a disaster for the American people. It's a disaster for our economy. It's a disaster\n"
     ]
    }
   ],
   "source": [
    "num_beams = 5\n",
    "\n",
    "outputs = generator(input_text, \n",
    "                         max_length=max_length,\n",
    "                        pad_token_id = 50256,                         \n",
    "                        num_beams=num_beams, \n",
    "                        early_stopping=True,\n",
    "                        do_sample = False\n",
    "                        )\n",
    "\n",
    "print(f\"Beam search with {num_beams} beams:\\nModel = {model_name}\\n\"+ 50*\"-\")\n",
    "display_text(outputs)"
   ]
  },
  {
   "cell_type": "markdown",
   "metadata": {},
   "source": [
    "## Sampling\n",
    "\n",
    "To generate text by sampling from the language model, we call `generator` with the following parameters:\n",
    "\n",
    "1. `do_sample = True`\n",
    "\n",
    "2. `num_return_sequences=num_return_sequences` because we will be generating multiple texts."
   ]
  },
  {
   "cell_type": "code",
   "execution_count": 46,
   "metadata": {},
   "outputs": [
    {
     "name": "stdout",
     "output_type": "stream",
     "text": [
      "Sampling\n",
      "Model = gpt2\n",
      "--------------------------------------------------\n",
      "0: Joe Biden's infrastructure bill is far too big to pass without bipartisan support and is too controversial to pass.  As Democrats look to replace Obamacare with\n",
      "1: Joe Biden's infrastructure bill is an example of how the two can coexist on a budget. It will be difficult for Democrats to stop Republicans from appropri\n",
      "2: Joe Biden's infrastructure bill is a disaster, a disaster for America, a disaster only for President Obama. If you take a look at the budget,\n",
      "3: Joe Biden's infrastructure bill is a complete sh*t on defense. No longer are we allowed to have one-sided debates with people who have nothing\n",
      "4: Joe Biden's infrastructure bill is \"about creating an open\" environment for jobs and investment, said a spokeswoman for Clinton's campaign.  In a\n"
     ]
    }
   ],
   "source": [
    "outputs = generator(input_text, \n",
    "                         max_length=max_length,\n",
    "                        pad_token_id = 50256,                         \n",
    "                        num_return_sequences=num_return_sequences,\n",
    "                         do_sample=True\n",
    "                        )\n",
    "\n",
    "print(f\"Sampling\\nModel = {model_name}\\n\"+ 50*\"-\")\n",
    "display_text(outputs)"
   ]
  },
  {
   "cell_type": "markdown",
   "metadata": {},
   "source": [
    "## Sampling with Temperature\n",
    "\n",
    "Sampling with temperature requires us to set the `temperature`.  Setting `temperature=1` is equivalent to normal sampling from the language model.  Setting `temperature=0` is equivalent to greedy search.   If you set `temperature` to be greater than 1, you will get more random text, while if `temperature` is less than 1 you get higher probability text.  \n",
    "\n",
    "We use `generator` with the same parameters as for sampling, but with an additional parameter:\n",
    "\n",
    "1. `temperature = float(temperature)`.  We need `temperature` to be a float number for the code to work.\n"
   ]
  },
  {
   "cell_type": "code",
   "execution_count": 47,
   "metadata": {},
   "outputs": [
    {
     "name": "stdout",
     "output_type": "stream",
     "text": [
      "Sampling with temperature = 1.2\n",
      "Model = gpt2\n",
      "--------------------------------------------------\n",
      "0: Joe Biden's infrastructure bill is almost certainly a bad deal for the American workers that they need to build the most successful economic policy in the world,\" said\n",
      "1: Joe Biden's infrastructure bill is already working against his Republican friends in the Republican-controlled New Hampshire legislature.  In an effort to counter the Trump\n",
      "2: Joe Biden's infrastructure bill is a disaster  It's hard to argue it can't go through Congress. And some critics have been right at the\n",
      "3: Joe Biden's infrastructure bill is to take up an Obama budget proposal by the mid-2020s which is now expected to go on the House floor.\n",
      "4: Joe Biden's infrastructure bill is coming out soon, with the Democrats planning to consider several parts. In 2015, Obama pledged for $3 trillion in tax\n"
     ]
    }
   ],
   "source": [
    "temperature = 1.2\n",
    "\n",
    "outputs = generator(input_text, \n",
    "                         max_length=max_length,\n",
    "                        pad_token_id = 50256,                         \n",
    "                        num_return_sequences=num_return_sequences,\n",
    "                         do_sample=True,\n",
    "                         temperature = float(temperature)\n",
    "                        )\n",
    "\n",
    "print(f\"Sampling with temperature = {temperature}\\nModel = {model_name}\\n\"+ 50*\"-\")\n",
    "display_text(outputs)"
   ]
  },
  {
   "cell_type": "markdown",
   "metadata": {},
   "source": [
    "## Top-k Sampling\n",
    "\n",
    "We first set `k` equal to the size of the sampling set of words.  Then we call generator with the same parameters as for sampling or sampling with temperature, plus one additional parameter:\n",
    "\n",
    "1. `top_k=k`"
   ]
  },
  {
   "cell_type": "code",
   "execution_count": 48,
   "metadata": {},
   "outputs": [
    {
     "name": "stdout",
     "output_type": "stream",
     "text": [
      "Top-k Sampling with k = 5\n",
      "Model = gpt2\n",
      "--------------------------------------------------\n",
      "0: Joe Biden's infrastructure bill is not a slam dunk. It is a step towards the end of a long and storied career.  The House\n",
      "1: Joe Biden's infrastructure bill is not a good idea. It's a bad idea that's been on the table for years.  The only thing\n",
      "2: Joe Biden's infrastructure bill is the most ambitious in recent history.  It would create a new, three-state highway that would connect New Jersey\n",
      "3: Joe Biden's infrastructure bill is a good idea. He's a strong advocate of building the Keystone pipeline. But the Keystone project is a bad idea for\n",
      "4: Joe Biden's infrastructure bill is a big deal. It will help keep America's jobs and create more jobs. It will help us build the infrastructure that\n"
     ]
    }
   ],
   "source": [
    "k = 5\n",
    "\n",
    "outputs = generator(input_text,\n",
    "                         max_length=max_length,\n",
    "                        pad_token_id = 50256,                         \n",
    "                        num_return_sequences=num_return_sequences,\n",
    "                         do_sample=True, \n",
    "                        top_k=k,\n",
    "                        )\n",
    "\n",
    "print(f\"Top-k Sampling with k = {k}\\nModel = {model_name}\\n\"+ 50*\"-\")\n",
    "display_text(outputs)"
   ]
  },
  {
   "cell_type": "markdown",
   "metadata": {},
   "source": [
    "## Top-p Sampling\n",
    "\n",
    "We first set `p` to be the probability of words in the sample set.  Then we call generator with the same parameters as for sampling or sampling with temperature, plus one additional parameter:\n",
    "\n",
    "1. `top_p = p`\n"
   ]
  },
  {
   "cell_type": "code",
   "execution_count": 49,
   "metadata": {},
   "outputs": [
    {
     "name": "stdout",
     "output_type": "stream",
     "text": [
      "Top-p Sampling with p = 0.920\n",
      "Model = gpt2\n",
      "--------------------------------------------------\n",
      "0: Joe Biden's infrastructure bill is not the first time the president has criticized Democrats for their record on infrastructure.  In September, Trump told MSNBC's\n",
      "1: Joe Biden's infrastructure bill is also about the fact that it's not just about getting infrastructure built. It's about getting the money out of the hands\n",
      "2: Joe Biden's infrastructure bill is \"just another one in a long series of promises that have been made by Republicans that will be dashed if they lose the\n",
      "3: Joe Biden's infrastructure bill is a major victory for the left, who have been increasingly frustrated with the Democrats' inability to deliver on their promise to spend\n",
      "4: Joe Biden's infrastructure bill is \"a disaster,\" says Democratic pollster Dan Drezner. \"The President is doing something he's not expected to\n"
     ]
    }
   ],
   "source": [
    "p=0.92\n",
    "temperature = 0.7\n",
    "\n",
    "outputs = generator(input_text, \n",
    "                         max_length=max_length,\n",
    "                        pad_token_id = 50256,                         \n",
    "                        num_return_sequences=num_return_sequences,\n",
    "                         do_sample=True, \n",
    "                       temperature = float(temperature),\n",
    "                        top_p = p\n",
    "                        )\n",
    "\n",
    "print(f\"Top-p Sampling with p = {p:.3f}\\nModel = {model_name}\\n\" + 50*\"-\")\n",
    "display_text(outputs)"
   ]
  },
  {
   "cell_type": "markdown",
   "metadata": {},
   "source": [
    "# Generating Synthetic Tweets"
   ]
  },
  {
   "cell_type": "markdown",
   "metadata": {},
   "source": [
    "## Fine Tune GPT-2 on a Twitter User's Tweets\n",
    "\n",
    "We are next going to fine tune GPT-2 using the tweets of a Twitter user.  We can do this using the following notebook found on Google Colab:\n",
    "https://colab.research.google.com/github/borisdayma/huggingtweets/blob/master/huggingtweets-demo.ipynb#scrollTo=CpxBQYF88AHJ\n",
    "Just follow the instructions on the notebook to fine tune GPT-2.  The model will then be saved to the HuggingTweets repository.  You will need a Google account to use the notebook. \n",
    "\n",
    "Details about this code can be found here:\n",
    "https://wandb.ai/wandb/huggingtweets/reports/HuggingTweets-Train-a-Model-to-Generate-Tweets--VmlldzoxMTY5MjI\n",
    "\n"
   ]
  },
  {
   "cell_type": "markdown",
   "metadata": {},
   "source": [
    "## Load a Fine-Tuned Model from HuggingTweets\n",
    "\n",
    "There are many pre-trained models on HuggingTweets: https://huggingface.co/huggingtweets.  To choose one, set `screen_name` equal to the Twitter user whose model you want to use.  Then created `generator_tweet` using the `pipeline` function.\n"
   ]
  },
  {
   "cell_type": "code",
   "execution_count": 5,
   "metadata": {},
   "outputs": [
    {
     "data": {
      "application/vnd.jupyter.widget-view+json": {
       "model_id": "3d5a7dc9cc894b34941559727ad74131",
       "version_major": 2,
       "version_minor": 0
      },
      "text/plain": [
       "Downloading:   0%|          | 0.00/908 [00:00<?, ?B/s]"
      ]
     },
     "metadata": {},
     "output_type": "display_data"
    },
    {
     "data": {
      "application/vnd.jupyter.widget-view+json": {
       "model_id": "b9840bcba66c4377a4af9ad6ca4cb0e6",
       "version_major": 2,
       "version_minor": 0
      },
      "text/plain": [
       "Downloading:   0%|          | 0.00/510M [00:00<?, ?B/s]"
      ]
     },
     "metadata": {},
     "output_type": "display_data"
    },
    {
     "data": {
      "application/vnd.jupyter.widget-view+json": {
       "model_id": "a2aeceefb010419c887a4713daec23f1",
       "version_major": 2,
       "version_minor": 0
      },
      "text/plain": [
       "Downloading:   0%|          | 0.00/798k [00:00<?, ?B/s]"
      ]
     },
     "metadata": {},
     "output_type": "display_data"
    },
    {
     "data": {
      "application/vnd.jupyter.widget-view+json": {
       "model_id": "bf711832144c4db4bdcc6f301175bc14",
       "version_major": 2,
       "version_minor": 0
      },
      "text/plain": [
       "Downloading:   0%|          | 0.00/456k [00:00<?, ?B/s]"
      ]
     },
     "metadata": {},
     "output_type": "display_data"
    },
    {
     "data": {
      "application/vnd.jupyter.widget-view+json": {
       "model_id": "95f81d904a104bd198629e86a31a95b2",
       "version_major": 2,
       "version_minor": 0
      },
      "text/plain": [
       "Downloading:   0%|          | 0.00/90.0 [00:00<?, ?B/s]"
      ]
     },
     "metadata": {},
     "output_type": "display_data"
    },
    {
     "data": {
      "application/vnd.jupyter.widget-view+json": {
       "model_id": "ac07c12b1b5446a19a0d64d8ed284019",
       "version_major": 2,
       "version_minor": 0
      },
      "text/plain": [
       "Downloading:   0%|          | 0.00/200 [00:00<?, ?B/s]"
      ]
     },
     "metadata": {},
     "output_type": "display_data"
    }
   ],
   "source": [
    "screen_name = \"AOC\"\n",
    "generator_tweet = pipeline('text-generation',\n",
    "                     model=f\"huggingtweets/{screen_name.lower()}\")\n",
    "\n"
   ]
  },
  {
   "cell_type": "markdown",
   "metadata": {},
   "source": [
    "## Generate Tweet in Voice of a Twitter User\n",
    "\n",
    "Use `generator_tweet` to generate tweets in the voice of the Twitter user.  Just set the input parameters:\n",
    "\n",
    "1. `input_text_tweet` = starting text of tweet\n",
    "\n",
    "2. `max_length` = number of words in tweet\n",
    "\n",
    "3. `num_return_sequences` = number of tweets to generate\n",
    "\n",
    "4. `temperature` = temperature for sampling\n",
    "\n",
    "5. `p` = probability of sample set for top-p sampling"
   ]
  },
  {
   "cell_type": "code",
   "execution_count": 51,
   "metadata": {},
   "outputs": [
    {
     "name": "stdout",
     "output_type": "stream",
     "text": [
      "Fake Tweets of brianstelter\n",
      "--------------------------------------------------\n",
      "0: Today's post is about how Trump has handled his own coronavirus coronaviage and the coroncavian coronautics trial. Read on\n",
      "1: Today, the country's first pro-Trump newspaper, The Washington Post, announced that it is leaving the paper after just one year. The move comes\n",
      "2: Today, the country's top news networks are airing the first of four TV interviews with Trump in a week: his inauguration, his coronavirus pand\n",
      "3: Today's edition of CNN is live on @CNN, with interviews from @danaherr, @danfron and @LizNYT\n",
      "4: Today: @bkirby writes about how \"the rise of the Republican party has been led by a surge in extreme right-wing violence\"\n"
     ]
    }
   ],
   "source": [
    "input_text_tweet = \"Today\"\n",
    "max_length = 30\n",
    "num_return_sequences = 5\n",
    "temperature = 0.8\n",
    "p = 0.95\n",
    "\n",
    "outputs =generator_tweet(input_text_tweet, \n",
    "                       max_length=max_length,\n",
    "                       num_return_sequences= num_return_sequences,\n",
    "                       temperature = float(temperature),\n",
    "                       do_sample = True,\n",
    "                       top_p = p,\n",
    "                       pad_token_id=50256,\n",
    "                  no_repeat_ngram_size=2,)\n",
    "\n",
    "print(f\"Fake Tweets of {screen_name}\\n\"+50*\"-\")\n",
    "display_text(outputs)"
   ]
  },
  {
   "cell_type": "markdown",
   "metadata": {},
   "source": [
    "# Language Model Probability Distribution\n",
    "\n",
    "To explore the fine tuned language model, we can plot the probability distribution of the next word given an input text.  We do this as follows.\n",
    "\n",
    "1. Choose your input text\n",
    "\n",
    "2. Sample many words from the language model given the input text\n",
    "\n",
    "3. Make a histogram of the sampled words"
   ]
  },
  {
   "cell_type": "markdown",
   "metadata": {},
   "source": [
    "## Helper function\n",
    "\n",
    "The function `sample_words` will sample words from the language model given an input text.  It's input parameters are \n",
    "\n",
    "1. `input_text` = input text \n",
    "\n",
    "2. `generator` = language model generator from which you will be sampling words\n",
    "\n",
    "3. `nsamples` = number of words to sample\n",
    "\n",
    "\n",
    "`sample_words` returns a dataframe with columns `word` which has the words and `freq` which has the frequency count for the sampled words."
   ]
  },
  {
   "cell_type": "code",
   "execution_count": 60,
   "metadata": {},
   "outputs": [],
   "source": [
    "def sample_words(input_text,generator,nsamples):\n",
    "    max_length = len(input_text.split(\" \"))+1\n",
    "    outputs = generator(input_text, \n",
    "                             max_length=max_length,\n",
    "                            pad_token_id = 50256,                         \n",
    "                            num_return_sequences=nsamples,\n",
    "                             do_sample=True, \n",
    "                            top_k=0\n",
    "                            )\n",
    "\n",
    "    W = []\n",
    "    for count,output in enumerate(outputs):\n",
    "        text = output['generated_text']\n",
    "        text = text.replace(\"\\n\",\" \").replace(\"\\r\",\" \").replace(input_text,\"\")\n",
    "        W.append(text)\n",
    "    counter = Counter(W)\n",
    "\n",
    "    words = [x for x in counter.keys()]\n",
    "    freqs = [x for x in counter.values()]\n",
    "\n",
    "    df_freq = pd.DataFrame({'word':words,'freq':freqs})\n",
    "    df_freq.sort_values(by = 'freq', ascending = False, inplace = True)\n",
    "    df_freq.head()\n",
    "    return df_freq\n",
    "\n",
    "\n"
   ]
  },
  {
   "cell_type": "markdown",
   "metadata": {},
   "source": [
    "## Sample Words from GPT-2 and Fine Tuned GPT-2\n",
    "\n",
    "Set the input text with the variable `input_text_sample`.  It's important not to put a space at the end of `input_text_sample` because of the way the generated sequence length is calculated.  Then sample `nsamples` words from the GPT-2 generator, called `generator`, and the fined tuned GPT-2 generator, called `generator_tweet`. \n",
    "\n",
    "The dataframe with the word frequencies for GPT-2 is called `df_gpt2` and the dataframe with the word frequencies for fined tuned GPT-2 is called `df_gpt2_ft`"
   ]
  },
  {
   "cell_type": "code",
   "execution_count": 71,
   "metadata": {},
   "outputs": [
    {
     "name": "stdout",
     "output_type": "stream",
     "text": [
      "Wall time: 28.8 s\n"
     ]
    }
   ],
   "source": [
    "%%time \n",
    "\n",
    "input_text_sample = 'Today a fake'\n",
    "nsamples = 1000\n",
    "\n",
    "df_gpt2 =  sample_words(input_text_sample, generator,nsamples)\n",
    "df_gpt2_ft = sample_words(input_text_sample, generator_tweet, nsamples)\n"
   ]
  },
  {
   "cell_type": "markdown",
   "metadata": {},
   "source": [
    "## Histograms of Word Distributions for GPT-2 and Fined Tuned GPT-2\n",
    "\n",
    "To visualize the difference in the distributions for GPT-2 and fine tuned GPT-2, make a histogram of the sampled words for the two models."
   ]
  },
  {
   "cell_type": "code",
   "execution_count": 74,
   "metadata": {},
   "outputs": [
    {
     "data": {
      "image/png": "[encoded data removed]",
      "text/plain": [
       "<Figure size 1440x432 with 2 Axes>"
      ]
     },
     "metadata": {
      "needs_background": "light"
     },
     "output_type": "display_data"
    }
   ],
   "source": [
    "wmax = 10\n",
    "rot = 45\n",
    "ymax = nsamples\n",
    "\n",
    "fig = plt.figure(figsize = (20,6))\n",
    "plt.subplot(1,2,1)\n",
    "ax = sns.barplot(data = df_gpt2[0:wmax], x = 'word', y = 'freq', color = 'blue')\n",
    "plt.title(f\"GPT-2\\nInput text: {input_text_sample}\",fontsize = 18)\n",
    "ax.set_xticklabels(ax.get_xticklabels(),rotation = rot)\n",
    "plt.xticks(fontsize = 14)\n",
    "plt.yticks(fontsize = 14)\n",
    "plt.grid()\n",
    "plt.ylim([0,ymax])\n",
    "\n",
    "plt.subplot(1,2,2)\n",
    "ax=sns.barplot(data = df_gpt2_ft[0:wmax], x = 'word', y = 'freq', color = 'green')\n",
    "plt.title(f\"Fine Tuned GPT-2\\nInput text: {input_text_sample}\",fontsize = 18)\n",
    "\n",
    "ax.set_xticklabels(ax.get_xticklabels(),rotation = rot)\n",
    "plt.xticks(fontsize = 14)\n",
    "plt.yticks(fontsize = 14)\n",
    "plt.grid()\n",
    "plt.ylim([0,ymax])\n",
    "\n",
    "plt.show()"
   ]
  },
  {
   "cell_type": "markdown",
   "metadata": {},
   "source": [
    "# Controlled Natural Language Generation: CTRL\n",
    "\n",
    "We will use CTRL to generaate controlled text.  The original CTLR paper can be found here: https://arxiv.org/pdf/1909.05858.pdf\n"
   ]
  },
  {
   "cell_type": "markdown",
   "metadata": {},
   "source": [
    "## Load CTRL\n",
    "\n",
    "Set `model_name=\"ctrl\"` and then created `generator_ctrl` using the `pipeline` function.\n",
    "\n",
    "WARNING: CTRL is pretty big (~6 GB) so this step may take a few minutes.\n",
    "\n"
   ]
  },
  {
   "cell_type": "code",
   "execution_count": 54,
   "metadata": {},
   "outputs": [
    {
     "name": "stdout",
     "output_type": "stream",
     "text": [
      "Wall time: 4min 17s\n"
     ]
    }
   ],
   "source": [
    "%%time\n",
    "model_name = \"ctrl\"\n",
    "generator_ctrl = pipeline('text-generation',\n",
    "                     model=model_name)"
   ]
  },
  {
   "cell_type": "markdown",
   "metadata": {},
   "source": [
    "## Generate Controlled Text\n",
    "\n",
    "\n",
    "Use `generator_ctrl` to generate controlled text.  Just set the input parameters:\n",
    "\n",
    "1. `input_text_ctrl` = starting text \n",
    "\n",
    "2. `control_code` = control code for text.  A list of control codes can be found here:https://github.com/salesforce/ctrl/blob/master/control_codes.txt\n",
    "\n",
    "3. `max_length` = number of words in text\n",
    "\n",
    "4. `num_return_sequences` = number of texts to generate\n",
    "\n",
    "5. `temperature` = temperature for sampling\n",
    "\n",
    "6. `p` = probability of sample set for top-p sampling\n",
    "\n",
    "\n"
   ]
  },
  {
   "cell_type": "code",
   "execution_count": 98,
   "metadata": {},
   "outputs": [],
   "source": [
    "input_text_ctrl = \"I feel\"\n",
    "control_code = \"Feminism\"\n",
    "max_length = 30\n",
    "num_return_sequences = 5\n",
    "temperature = 0.9\n",
    "p = 0.9\n"
   ]
  },
  {
   "cell_type": "code",
   "execution_count": 99,
   "metadata": {},
   "outputs": [
    {
     "name": "stdout",
     "output_type": "stream",
     "text": [
      "CTRL Control code: Feminism\n",
      "--------------------------------------------------\n",
      "0: Feminism I feel bad about it.     I was not sexually assaulted and I have never done anything like what he did to me. I just feel bad about\n",
      "1: Feminism I feel like I have nothing to show for it except a little bump on the road of life.     And then I remember all the other things\n",
      "2: Feminism I feel like I'm losing my mind because of it.       I think I'm going to talk to my boyfriend about it. He was supportive from the\n",
      "3: Feminism I feel like I have a lot more of a support system in my family and friends who have also been through this process. I feel like I'm more\n",
      "4: Feminism I feel that she would be a great father if she had to raise me, but I'm not sure if I should tell her. I don't know how to\n",
      "Wall time: 23 s\n"
     ]
    }
   ],
   "source": [
    "%%time\n",
    "\n",
    "input_text_control_code = f\"{control_code} {input_text_ctrl}\"\n",
    "outputs = generator_ctrl(input_text_control_code,  \n",
    "                         max_length=max_length, \n",
    "                         temperature=float(temperature),\n",
    "                         do_sample = True,\n",
    "                        num_return_sequences=num_return_sequences,\n",
    "                        pad_token_id = 50256,\n",
    "                        top_p = p,\n",
    "                       )\n",
    "\n",
    "print(f\"CTRL Control code: {control_code}\\n\"+50*\"-\")\n",
    "display_text(outputs)"
   ]
  },
  {
   "cell_type": "markdown",
   "metadata": {},
   "source": [
    "## Generate Text with Controlled Sentiment\n",
    "\n",
    "For the `Rating` control code, you can add a number between 1 and 5 to produce text with a negative or positive sentiment."
   ]
  },
  {
   "cell_type": "code",
   "execution_count": 125,
   "metadata": {},
   "outputs": [],
   "source": [
    "input_text_ctrl = \"I feel\"\n",
    "control_code = \"Horror Rating: 5\"\n",
    "max_length = 30\n",
    "num_return_sequences = 5\n",
    "temperature = 0.9\n",
    "p = 0.9\n",
    "\n"
   ]
  },
  {
   "cell_type": "code",
   "execution_count": 126,
   "metadata": {},
   "outputs": [
    {
     "name": "stdout",
     "output_type": "stream",
     "text": [
      "CTRL Control code: Horror Rating: 5\n",
      "--------------------------------------------------\n",
      "0: Horror Rating: 5 I feel the need to add something   Text:         I am writing this because I have had an experience which I\n",
      "1: Horror Rating: 5 I feel a bit guilty but this will come into its own in a few days as I'm about to go to bed.\n",
      "2: Horror Rating: 5 I feel like a sucker for this because I like to think this was a prank but it wasn't like that.     I was a\n",
      "3: Horror Rating: 5 I feel like I should be getting to the bottom of this right now.     What is wrong with me?     Score: 21\n",
      "4: Horror Rating: 5 I feel safe with my family and I know that I will be in my room when I wake up in the morning. I can say\n"
     ]
    }
   ],
   "source": [
    "input_text_control_code = f\"{control_code} {input_text_ctrl}\"\n",
    "outputs = generator_ctrl(input_text_control_code,  \n",
    "                         max_length=max_length, \n",
    "                         temperature=float(temperature),\n",
    "                         do_sample = True,\n",
    "                        num_return_sequences=num_return_sequences,\n",
    "                        pad_token_id = 50256,\n",
    "                        top_p = p,\n",
    "                       )\n",
    "\n",
    "print(f\"CTRL Control code: {control_code}\\n\"+50*\"-\")\n",
    "display_text(outputs)"
   ]
  },
  {
   "cell_type": "markdown",
   "metadata": {},
   "source": [
    "## Mix Topic and Sentiment\n",
    "\n",
    "We can append multiple control codes to create text about a topic with a given sentiment"
   ]
  },
  {
   "cell_type": "code",
   "execution_count": 115,
   "metadata": {},
   "outputs": [],
   "source": [
    "input_text_ctrl = \"Immigrants entering our country\"\n",
    "control_code = \"Food Review Rating: 1\"\n",
    "max_length = 30\n",
    "num_return_sequences = 5\n",
    "temperature = 0.9\n",
    "p = 0.9\n"
   ]
  },
  {
   "cell_type": "code",
   "execution_count": 116,
   "metadata": {},
   "outputs": [
    {
     "name": "stdout",
     "output_type": "stream",
     "text": [
      "CTRL Control code: Food Rating: 1\n",
      "--------------------------------------------------\n",
      "0: Food Rating: 1 Immigrants entering our country as refugees and visa holders have contributed greatly to our Nation's food and beverage security . . . . . . .\n",
      "1: Food Rating: 1 Immigrants entering our country are subject to a Food and Nutrition program that ensures they are getting the nutrition they need to stay healthy and safe\n",
      "2: Food Rating: 1 Immigrants entering our country legally must undergo a mandatory security and food inspection to ensure that they are not bringing in any counterfeit or unhealthy food\n",
      "3: Food Rating: 1 Immigrants entering our country should not be living in poverty and food stamps. I am tired of hearing about food stamps. The Republicans want to cut\n",
      "4: Food Rating: 1 Immigrants entering our country at a rate of approximately 50,000 per year are not included in the calculations provided in this report.http://wl@@\n"
     ]
    }
   ],
   "source": [
    "input_text_control_code = f\"{control_code} {input_text_ctrl}\"\n",
    "outputs = generator_ctrl(input_text_control_code,  \n",
    "                         max_length=max_length, \n",
    "                         temperature=float(temperature),\n",
    "                         do_sample = True,\n",
    "                        num_return_sequences=num_return_sequences,\n",
    "                        pad_token_id = 50256,\n",
    "                        top_p = p,\n",
    "                       )\n",
    "\n",
    "print(f\"CTRL Control code: {control_code}\\n\"+50*\"-\")\n",
    "display_text(outputs)"
   ]
  },
  {
   "cell_type": "code",
   "execution_count": null,
   "metadata": {},
   "outputs": [],
   "source": []
  }
 ],
 "metadata": {
  "kernelspec": {
   "display_name": "Python 3",
   "language": "python",
   "name": "python3"
  },
  "language_info": {
   "codemirror_mode": {
    "name": "ipython",
    "version": 3
   },
   "file_extension": ".py",
   "mimetype": "text/x-python",
   "name": "python",
   "nbconvert_exporter": "python",
   "pygments_lexer": "ipython3",
   "version": "3.7.2"
  }
 },
 "nbformat": 4,
 "nbformat_minor": 2
}
