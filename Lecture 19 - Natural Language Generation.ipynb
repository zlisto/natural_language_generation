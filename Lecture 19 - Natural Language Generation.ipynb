{
 "cells": [
  {
   "cell_type": "markdown",
   "metadata": {},
   "source": [
    "# Lecture 19 - Natural Language Generation\n",
    "\n",
    "In this notebook we will learn how to generate natural language using transformer language models.\n",
    "\n",
    "Below is the overview of this notebook.\n",
    "\n",
    "1. Test different decoding methods on GPT-2\n",
    "\n",
    "2. Fine tune GPT-2 to tweet like a Twitter user\n",
    "\n",
    "3. Generate controlled text using CTRL"
   ]
  },
  {
   "cell_type": "markdown",
   "metadata": {},
   "source": [
    "# Google Colab\n",
    "\n",
    "If you have a Google account you can load this notebook in Google Colab with the link below:\n",
    "https://colab.research.google.com/github/zlisto/natural_language_generation/blob/main/Lecture%2019%20-%20Natural%20Language%20Generation.ipynb\n",
    "\n",
    "This will be most useful for folks who could not get the `transformers` package to work properly.  One warning: I was not able to get the CTRL section of this notebook to work on Colab."
   ]
  },
  {
   "cell_type": "markdown",
   "metadata": {},
   "source": [
    "## Install Packages\n",
    "\n",
    "You will need to install the transformers package if you have not already (you probably did for HW 6)."
   ]
  },
  {
   "cell_type": "code",
   "execution_count": null,
   "metadata": {},
   "outputs": [],
   "source": [
    "!pip install transformers"
   ]
  },
  {
   "cell_type": "markdown",
   "metadata": {},
   "source": [
    "## Import Packages\n",
    "\n",
    "We will import the `pipeline` module from `transformers`, which makes generating text really easy."
   ]
  },
  {
   "cell_type": "code",
   "execution_count": 16,
   "metadata": {},
   "outputs": [],
   "source": [
    "from transformers import pipeline\n",
    "from collections import Counter\n",
    "import sqlite3, sys, os\n",
    "import pandas as pd\n",
    "\n",
    "import matplotlib.pyplot as plt\n",
    "import seaborn as sns"
   ]
  },
  {
   "cell_type": "markdown",
   "metadata": {},
   "source": [
    "## Helper Functions\n",
    "\n",
    "We will use the function `display_text` to display the output generated text."
   ]
  },
  {
   "cell_type": "code",
   "execution_count": 2,
   "metadata": {},
   "outputs": [],
   "source": [
    "def display_text(outputs):\n",
    "    for count,output in enumerate(outputs):\n",
    "        text = output['generated_text']\n",
    "        text = text.replace(\"\\n\",\" \").replace(\"\\r\",\" \")\n",
    "        print(f\"{count}: {text}\")\n",
    "    return None"
   ]
  },
  {
   "cell_type": "markdown",
   "metadata": {},
   "source": [
    "# Decoding Methods\n",
    "\n",
    "We will begin by testing diffrenent decoding methods for generating text from a language model.  The methods include\n",
    "\n",
    "1. Greedy search\n",
    "\n",
    "2. Beam search\n",
    "\n",
    "3. Sampling\n",
    "\n",
    "4. Sampling with temperature\n",
    "\n",
    "5. Top-k sampling\n",
    "\n",
    "6. Top-p sampling \n",
    "\n",
    "Much of this code comes from the following blog:\n",
    "\n",
    "https://huggingface.co/blog/how-to-generate"
   ]
  },
  {
   "cell_type": "markdown",
   "metadata": {},
   "source": [
    "## Load GPT-2\n",
    "\n",
    "We will be generating text using the GPT-2 transformer.  We set `model_name = \"gpt-2\"` and then create `generator` with the `pipeline` function.  `generator` will be a function that lets us generate text very easily once we specify a model.  It automatically loads the proper tokenizer for the model, tokenizes the text, and generates the text.  "
   ]
  },
  {
   "cell_type": "code",
   "execution_count": 3,
   "metadata": {},
   "outputs": [
    {
     "name": "stderr",
     "output_type": "stream",
     "text": [
      "Some weights of GPT2Model were not initialized from the model checkpoint at gpt2 and are newly initialized: ['h.0.attn.masked_bias', 'h.1.attn.masked_bias', 'h.2.attn.masked_bias', 'h.3.attn.masked_bias', 'h.4.attn.masked_bias', 'h.5.attn.masked_bias', 'h.6.attn.masked_bias', 'h.7.attn.masked_bias', 'h.8.attn.masked_bias', 'h.9.attn.masked_bias', 'h.10.attn.masked_bias', 'h.11.attn.masked_bias']\n",
      "You should probably TRAIN this model on a down-stream task to be able to use it for predictions and inference.\n"
     ]
    },
    {
     "name": "stdout",
     "output_type": "stream",
     "text": [
      "Wall time: 6.34 s\n"
     ]
    }
   ],
   "source": [
    "%%time\n",
    "model_name = \"gpt2\"\n",
    "generator = pipeline('text-generation',model=model_name)"
   ]
  },
  {
   "cell_type": "markdown",
   "metadata": {},
   "source": [
    "## Set Input Parameters\n",
    "\n",
    "We need to set some input parameters to generate text.\n",
    "\n",
    "1. `input_text` = the starting text string for your generated text\n",
    "\n",
    "2. `max_length` = the number of words in your generated text\n",
    "\n",
    "3. `num_return_sequences` = number of texts you want to generate (this is for the sampling methods)"
   ]
  },
  {
   "cell_type": "code",
   "execution_count": 4,
   "metadata": {},
   "outputs": [],
   "source": [
    "input_text = \"Joe Biden's infrastructure bill is\"\n",
    "max_length = 30\n",
    "num_return_sequences = 5"
   ]
  },
  {
   "cell_type": "markdown",
   "metadata": {},
   "source": [
    "## Greedy Search\n",
    "\n",
    "To use greedy search, we call `generator` with the `input_text`, `max_length`, and set `do_sample=False`.  The output of `generator` is `outputs` which is a list of the generated text objects.  We use `display_text` to print out the generated text. If you want to learn about the exact structure of `outputs`, you can look at the details of `display_text`."
   ]
  },
  {
   "cell_type": "code",
   "execution_count": 5,
   "metadata": {},
   "outputs": [
    {
     "name": "stdout",
     "output_type": "stream",
     "text": [
      "Greedy search\n",
      "Model = gpt2\n",
      "--------------------------------------------------\n",
      "0: Joe Biden's infrastructure bill is a disaster. It's a disaster for the American people. It's a disaster for the American economy. It's a\n"
     ]
    }
   ],
   "source": [
    "outputs =generator(input_text, \n",
    "                         max_length=max_length, \n",
    "                           do_sample = False,\n",
    "                        pad_token_id = 50256)\n",
    "\n",
    "print(f\"Greedy search\\nModel = {model_name}\\n\"+ 50*\"-\")\n",
    "display_text(outputs)"
   ]
  },
  {
   "cell_type": "markdown",
   "metadata": {},
   "source": [
    "## Beam Search\n",
    "\n",
    "To use beam search we have to set the number of beams `num_beams`.  Then we use `generator` with a few additional parameters:\n",
    "\n",
    "1. `early_stopping=True` so that generation is finished when all beams reach the End Of Sentence (EOS) token.\n",
    "\n",
    "2. `num_beams=num_beams` so we track `num_beams` beams while generating the text."
   ]
  },
  {
   "cell_type": "code",
   "execution_count": 6,
   "metadata": {},
   "outputs": [
    {
     "name": "stdout",
     "output_type": "stream",
     "text": [
      "Beam search with 5 beams:\n",
      "Model = gpt2\n",
      "--------------------------------------------------\n",
      "0: Joe Biden's infrastructure bill is a disaster. It's a disaster for the American people. It's a disaster for our economy. It's a disaster\n"
     ]
    }
   ],
   "source": [
    "num_beams = 5\n",
    "\n",
    "outputs = generator(input_text, \n",
    "                         max_length=max_length,\n",
    "                        pad_token_id = 50256,                         \n",
    "                        num_beams=num_beams, \n",
    "                        early_stopping=True,\n",
    "                        do_sample = False\n",
    "                        )\n",
    "\n",
    "print(f\"Beam search with {num_beams} beams:\\nModel = {model_name}\\n\"+ 50*\"-\")\n",
    "display_text(outputs)"
   ]
  },
  {
   "cell_type": "markdown",
   "metadata": {},
   "source": [
    "## Sampling\n",
    "\n",
    "To generate text by sampling from the language model, we call `generator` with the following parameters:\n",
    "\n",
    "1. `do_sample = True`\n",
    "\n",
    "2. `num_return_sequences=num_return_sequences` because we will be generating multiple texts."
   ]
  },
  {
   "cell_type": "code",
   "execution_count": 7,
   "metadata": {},
   "outputs": [
    {
     "name": "stdout",
     "output_type": "stream",
     "text": [
      "Sampling\n",
      "Model = gpt2\n",
      "--------------------------------------------------\n",
      "0: Joe Biden's infrastructure bill is a bipartisan project, but has been largely ignored outside of the Democratic Party, Politico reports. Senate Majority Leader Mitch McConnell (\n",
      "1: Joe Biden's infrastructure bill is just one of the problems the Left is hoping of solving. They're using Obamacare or something like it in general,\n",
      "2: Joe Biden's infrastructure bill is not an option for Congress. And with the Senate just days away, it's been determined that Republicans will only push another\n",
      "3: Joe Biden's infrastructure bill is an attempt to undermine the Affordable Care Act.  Obama proposed the bill in March, and it narrowly passed on the\n",
      "4: Joe Biden's infrastructure bill is a 'small step' towards the GOP's 'endurance' plan, but that doesn't mean it can't get\n"
     ]
    }
   ],
   "source": [
    "outputs = generator(input_text, \n",
    "                         max_length=max_length,\n",
    "                        pad_token_id = 50256,                         \n",
    "                        num_return_sequences=num_return_sequences,\n",
    "                         do_sample=True\n",
    "                        )\n",
    "\n",
    "print(f\"Sampling\\nModel = {model_name}\\n\"+ 50*\"-\")\n",
    "display_text(outputs)"
   ]
  },
  {
   "cell_type": "markdown",
   "metadata": {},
   "source": [
    "## Sampling with Temperature\n",
    "\n",
    "Sampling with temperature requires us to set the `temperature`.  Setting `temperature=1` is equivalent to normal sampling from the language model.  Setting `temperature=0` is equivalent to greedy search.   If you set `temperature` to be greater than 1, you will get more random text, while if `temperature` is less than 1 you get higher probability text.  \n",
    "\n",
    "We use `generator` with the same parameters as for sampling, but with an additional parameter:\n",
    "\n",
    "1. `temperature = float(temperature)`.  We need `temperature` to be a float number for the code to work.\n"
   ]
  },
  {
   "cell_type": "code",
   "execution_count": 8,
   "metadata": {},
   "outputs": [
    {
     "name": "stdout",
     "output_type": "stream",
     "text": [
      "Sampling with temperature = 1.2\n",
      "Model = gpt2\n",
      "--------------------------------------------------\n",
      "0: Joe Biden's infrastructure bill is similar to the House-passed bill the House passed, H.L. 2158, a compromise bill called the\n",
      "1: Joe Biden's infrastructure bill is now \"not as good\" as the bill he was hoping for. (It will, presumably, likely face Republican opposition\n",
      "2: Joe Biden's infrastructure bill is not a substitute for a $3 trillion budget that includes huge cuts to welfare — and it'd have nothing to do with\n",
      "3: Joe Biden's infrastructure bill is even more problematic, as he doesn't have a lot of votes on the Senate floor, let alone on the House floor\n",
      "4: Joe Biden's infrastructure bill is dead, and the House passed a bill late Thursday evening (Monday) night as expected and before it began to emerge that\n"
     ]
    }
   ],
   "source": [
    "temperature = 1.2\n",
    "\n",
    "outputs = generator(input_text, \n",
    "                         max_length=max_length,\n",
    "                        pad_token_id = 50256,                         \n",
    "                        num_return_sequences=num_return_sequences,\n",
    "                         do_sample=True,\n",
    "                         temperature = float(temperature)\n",
    "                        )\n",
    "\n",
    "print(f\"Sampling with temperature = {temperature}\\nModel = {model_name}\\n\"+ 50*\"-\")\n",
    "display_text(outputs)"
   ]
  },
  {
   "cell_type": "markdown",
   "metadata": {},
   "source": [
    "## Top-k Sampling\n",
    "\n",
    "We first set `k` equal to the size of the sampling set of words.  Then we call generator with the same parameters as for sampling or sampling with temperature, plus one additional parameter:\n",
    "\n",
    "1. `top_k=k`"
   ]
  },
  {
   "cell_type": "code",
   "execution_count": 9,
   "metadata": {},
   "outputs": [
    {
     "name": "stdout",
     "output_type": "stream",
     "text": [
      "Top-k Sampling with k = 5\n",
      "Model = gpt2\n",
      "--------------------------------------------------\n",
      "0: Joe Biden's infrastructure bill is a great example of a bipartisan effort to get things done.\"  Biden is a longtime Democratic critic and a former\n",
      "1: Joe Biden's infrastructure bill is a big win for the Democratic Party. It's a big win for the middle class, it's a big win for\n",
      "2: Joe Biden's infrastructure bill is a disaster for the American people, and we're going to fight back against it,\" he said.  The Senate\n",
      "3: Joe Biden's infrastructure bill is now up for re-election this year.  In addition to the $1 billion in infrastructure funding, the bill\n",
      "4: Joe Biden's infrastructure bill is a big win. He has a big chance to win it.  He's not going to get it done.\n"
     ]
    }
   ],
   "source": [
    "k = 5\n",
    "\n",
    "outputs = generator(input_text,\n",
    "                         max_length=max_length,\n",
    "                        pad_token_id = 50256,                         \n",
    "                        num_return_sequences=num_return_sequences,\n",
    "                         do_sample=True, \n",
    "                        top_k=k,\n",
    "                        )\n",
    "\n",
    "print(f\"Top-k Sampling with k = {k}\\nModel = {model_name}\\n\"+ 50*\"-\")\n",
    "display_text(outputs)"
   ]
  },
  {
   "cell_type": "markdown",
   "metadata": {},
   "source": [
    "## Top-p Sampling\n",
    "\n",
    "We first set `p` to be the probability of words in the sample set.  Then we call generator with the same parameters as for sampling or sampling with temperature, plus one additional parameter:\n",
    "\n",
    "1. `top_p = p`\n"
   ]
  },
  {
   "cell_type": "code",
   "execution_count": 10,
   "metadata": {},
   "outputs": [
    {
     "name": "stdout",
     "output_type": "stream",
     "text": [
      "Top-p Sampling with p = 0.920\n",
      "Model = gpt2\n",
      "--------------------------------------------------\n",
      "0: Joe Biden's infrastructure bill is a great way to get your bill through the Senate.  You can also get a copy of the Senate's legislation\n",
      "1: Joe Biden's infrastructure bill is not only not going to pass the Senate but it will not pass the House.  \"This is a big deal\n",
      "2: Joe Biden's infrastructure bill is a disaster. It would leave the federal government with a $8 billion deficit by 2027, which is about $4\n",
      "3: Joe Biden's infrastructure bill is about to get a vote.  The Senate has yet to vote on a bill that would increase the minimum wage to\n",
      "4: Joe Biden's infrastructure bill is now in the Senate, and it will need to be passed by the full Senate. The Democratic leadership wants to see a\n"
     ]
    }
   ],
   "source": [
    "p=0.92\n",
    "temperature = 0.7\n",
    "\n",
    "outputs = generator(input_text, \n",
    "                         max_length=max_length,\n",
    "                        pad_token_id = 50256,                         \n",
    "                        num_return_sequences=num_return_sequences,\n",
    "                         do_sample=True, \n",
    "                       temperature = float(temperature),\n",
    "                        top_p = p\n",
    "                        )\n",
    "\n",
    "print(f\"Top-p Sampling with p = {p:.3f}\\nModel = {model_name}\\n\" + 50*\"-\")\n",
    "display_text(outputs)"
   ]
  },
  {
   "cell_type": "markdown",
   "metadata": {},
   "source": [
    "# Generating Synthetic Tweets"
   ]
  },
  {
   "cell_type": "markdown",
   "metadata": {},
   "source": [
    "## Fine Tune GPT-2 on a Twitter User's Tweets\n",
    "\n",
    "We are next going to fine tune GPT-2 using the tweets of a Twitter user.  We can do this using the following notebook found on Google Colab:\n",
    "https://colab.research.google.com/github/borisdayma/huggingtweets/blob/master/huggingtweets-demo.ipynb#scrollTo=CpxBQYF88AHJ\n",
    "Just follow the instructions on the notebook to fine tune GPT-2.  The model will then be saved to the HuggingTweets repository.  You will need a Google account to use the notebook. \n",
    "\n",
    "Details about this code can be found here:\n",
    "https://wandb.ai/wandb/huggingtweets/reports/HuggingTweets-Train-a-Model-to-Generate-Tweets--VmlldzoxMTY5MjI\n",
    "\n"
   ]
  },
  {
   "cell_type": "markdown",
   "metadata": {},
   "source": [
    "## Load a Fine-Tuned Model from HuggingTweets\n",
    "\n",
    "There are many pre-trained models on HuggingTweets: https://huggingface.co/huggingtweets.  To choose one, set `screen_name` equal to the Twitter user whose model you want to use.  Then created `generator_tweet` using the `pipeline` function.\n"
   ]
  },
  {
   "cell_type": "code",
   "execution_count": 11,
   "metadata": {},
   "outputs": [],
   "source": [
    "screen_name = \"AOC\"\n",
    "generator_tweet = pipeline('text-generation',\n",
    "                     model=f\"huggingtweets/{screen_name.lower()}\")\n",
    "\n"
   ]
  },
  {
   "cell_type": "markdown",
   "metadata": {},
   "source": [
    "## Generate Tweet in Voice of a Twitter User\n",
    "\n",
    "Use `generator_tweet` to generate tweets in the voice of the Twitter user.  Just set the input parameters:\n",
    "\n",
    "1. `input_text_tweet` = starting text of tweet\n",
    "\n",
    "2. `max_length` = number of words in tweet\n",
    "\n",
    "3. `num_return_sequences` = number of tweets to generate\n",
    "\n",
    "4. `temperature` = temperature for sampling\n",
    "\n",
    "5. `p` = probability of sample set for top-p sampling"
   ]
  },
  {
   "cell_type": "code",
   "execution_count": 12,
   "metadata": {},
   "outputs": [
    {
     "name": "stdout",
     "output_type": "stream",
     "text": [
      "Fake Tweets of AOC\n",
      "--------------------------------------------------\n",
      "0: Today @RashidaTlaib is tweeting about the fact that I helped write and vote for the Green New Deal in “21”\n",
      "1: Today is our day! 🙏🏽‍♀️‍♀️‍♀️‍♀\n",
      "2: Today is a big day. We need to have a $1 trillion stimulus package. I want to thank President Obama, Vice President Biden, & many\n",
      "3: Today: To help make this happen, we must: - Establish a Green New Deal - Create $100k+ local relief checks - Create $\n",
      "4: Today we are unveiling a new policy that allows for Medicare-for-All:\n"
     ]
    }
   ],
   "source": [
    "input_text_tweet = \"Today\"\n",
    "max_length = 30\n",
    "num_return_sequences = 5\n",
    "temperature = 0.8\n",
    "p = 0.95\n",
    "\n",
    "outputs =generator_tweet(input_text_tweet, \n",
    "                       max_length=max_length,\n",
    "                       num_return_sequences= num_return_sequences,\n",
    "                       temperature = float(temperature),\n",
    "                       do_sample = True,\n",
    "                       top_p = p,\n",
    "                       pad_token_id=50256)\n",
    "\n",
    "print(f\"Fake Tweets of {screen_name}\\n\"+50*\"-\")\n",
    "display_text(outputs)"
   ]
  },
  {
   "cell_type": "markdown",
   "metadata": {},
   "source": [
    "# Language Model Probability Distribution\n",
    "\n",
    "To explore the fine tuned language model, we can plot the probability distribution of the next word given an input text.  We do this as follows.\n",
    "\n",
    "1. Choose your input text\n",
    "\n",
    "2. Sample many words from the language model given the input text\n",
    "\n",
    "3. Make a histogram of the sampled words"
   ]
  },
  {
   "cell_type": "markdown",
   "metadata": {},
   "source": [
    "## Helper function\n",
    "\n",
    "The function `sample_words` will sample words from the language model given an input text.  It's input parameters are \n",
    "\n",
    "1. `input_text` = input text (make sure it does not end in a space, and use common words)\n",
    "\n",
    "2. `generator` = language model generator from which you will be sampling words\n",
    "\n",
    "3. `nsamples` = number of words to sample\n",
    "\n",
    "\n",
    "`sample_words` returns a dataframe with columns `word` which has the words and `freq` which has the frequency count for the sampled words."
   ]
  },
  {
   "cell_type": "code",
   "execution_count": 14,
   "metadata": {},
   "outputs": [],
   "source": [
    "def sample_words(input_text,generator,nsamples):\n",
    "    max_length = len(input_text.split(\" \"))+1\n",
    "    outputs = generator(input_text, \n",
    "                             max_length=max_length,\n",
    "                            pad_token_id = 50256,                         \n",
    "                            num_return_sequences=nsamples,\n",
    "                             do_sample=True, \n",
    "                            top_k=0\n",
    "                            )\n",
    "\n",
    "    W = []\n",
    "    for count,output in enumerate(outputs):\n",
    "        text = output['generated_text']\n",
    "        text = text.replace(\"\\n\",\" \").replace(\"\\r\",\" \").replace(input_text,\"\")\n",
    "        W.append(text)\n",
    "    counter = Counter(W)\n",
    "\n",
    "    words = [x for x in counter.keys()]\n",
    "    freqs = [x for x in counter.values()]\n",
    "\n",
    "    df_freq = pd.DataFrame({'word':words,'freq':freqs})\n",
    "    df_freq.sort_values(by = 'freq', ascending = False, inplace = True)\n",
    "    df_freq.head()\n",
    "    return df_freq\n",
    "\n",
    "\n"
   ]
  },
  {
   "cell_type": "markdown",
   "metadata": {},
   "source": [
    "## Sample Words from GPT-2 and Fine Tuned GPT-2\n",
    "\n",
    "Set the input text with the variable `input_text_sample`.  It's important not to put a space at the end of `input_text_sample` because of the way the generated sequence length is calculated.  Then sample `nsamples` words from the GPT-2 generator, called `generator`, and the fined tuned GPT-2 generator, called `generator_tweet`. \n",
    "\n",
    "The dataframe with the word frequencies for GPT-2 is called `df_gpt2` and the dataframe with the word frequencies for fined tuned GPT-2 is called `df_gpt2_ft`"
   ]
  },
  {
   "cell_type": "code",
   "execution_count": 19,
   "metadata": {},
   "outputs": [
    {
     "name": "stdout",
     "output_type": "stream",
     "text": [
      "Wall time: 1.34 s\n"
     ]
    }
   ],
   "source": [
    "%%time \n",
    "\n",
    "input_text_sample = 'Today'\n",
    "nsamples = 100\n",
    "\n",
    "df_gpt2 =  sample_words(input_text_sample, generator,nsamples)\n",
    "df_gpt2_ft = sample_words(input_text_sample, generator_tweet, nsamples)\n"
   ]
  },
  {
   "cell_type": "markdown",
   "metadata": {},
   "source": [
    "## Histograms of Word Distributions for GPT-2 and Fined Tuned GPT-2\n",
    "\n",
    "To visualize the difference in the distributions for GPT-2 and fine tuned GPT-2, make a histogram of the sampled words for the two models."
   ]
  },
  {
   "cell_type": "code",
   "execution_count": 21,
   "metadata": {},
   "outputs": [
    {
     "data": {
      "image/png": "[encoded data removed]",
      "text/plain": [
       "<Figure size 1440x432 with 2 Axes>"
      ]
     },
     "metadata": {
      "needs_background": "light"
     },
     "output_type": "display_data"
    }
   ],
   "source": [
    "wmax = 10\n",
    "rot = 45\n",
    "ymax = nsamples\n",
    "\n",
    "fig = plt.figure(figsize = (20,6))\n",
    "plt.subplot(1,2,1)\n",
    "ax = sns.barplot(data = df_gpt2[0:wmax], x = 'word', y = 'freq', color = 'blue')\n",
    "plt.title(f\"GPT-2\\nInput text: {input_text_sample}\",fontsize = 18)\n",
    "ax.set_xticklabels(ax.get_xticklabels(),rotation = rot)\n",
    "plt.xticks(fontsize = 14)\n",
    "plt.yticks(fontsize = 14)\n",
    "plt.grid()\n",
    "plt.ylim([0,ymax])\n",
    "\n",
    "plt.subplot(1,2,2)\n",
    "ax=sns.barplot(data = df_gpt2_ft[0:wmax], x = 'word', y = 'freq', color = 'green')\n",
    "plt.title(f\"Fine Tuned GPT-2 on {screen_name}\\nInput text: {input_text_sample}\",fontsize = 18)\n",
    "\n",
    "ax.set_xticklabels(ax.get_xticklabels(),rotation = rot)\n",
    "plt.xticks(fontsize = 14)\n",
    "plt.yticks(fontsize = 14)\n",
    "plt.grid()\n",
    "plt.ylim([0,ymax])\n",
    "\n",
    "plt.show()"
   ]
  },
  {
   "cell_type": "markdown",
   "metadata": {},
   "source": [
    "# Controlled Natural Language Generation: CTRL\n",
    "\n",
    "We will use CTRL to generaate controlled text.  The original CTLR paper can be found here: https://arxiv.org/pdf/1909.05858.pdf\n"
   ]
  },
  {
   "cell_type": "markdown",
   "metadata": {},
   "source": [
    "## Load CTRL\n",
    "\n",
    "Set `model_name=\"ctrl\"` and then created `generator_ctrl` using the `pipeline` function.\n",
    "\n",
    "WARNING: CTRL is pretty big (~6 GB) so this step may take a few minutes.\n",
    "\n"
   ]
  },
  {
   "cell_type": "code",
   "execution_count": 22,
   "metadata": {},
   "outputs": [
    {
     "name": "stdout",
     "output_type": "stream",
     "text": [
      "Wall time: 3min 3s\n"
     ]
    }
   ],
   "source": [
    "%%time\n",
    "model_name = \"ctrl\"\n",
    "generator_ctrl = pipeline('text-generation',\n",
    "                     model=model_name)"
   ]
  },
  {
   "cell_type": "markdown",
   "metadata": {},
   "source": [
    "## Generate Controlled Text\n",
    "\n",
    "\n",
    "Use `generator_ctrl` to generate controlled text.  Just set the input parameters:\n",
    "\n",
    "1. `input_text_ctrl` = starting text \n",
    "\n",
    "2. `control_code` = control code for text.  A list of control codes can be found here:https://github.com/salesforce/ctrl/blob/master/control_codes.txt\n",
    "\n",
    "3. `max_length` = number of words in text\n",
    "\n",
    "4. `num_return_sequences` = number of texts to generate\n",
    "\n",
    "5. `temperature` = temperature for sampling\n",
    "\n",
    "6. `p` = probability of sample set for top-p sampling\n",
    "\n",
    "\n"
   ]
  },
  {
   "cell_type": "code",
   "execution_count": 24,
   "metadata": {},
   "outputs": [],
   "source": [
    "input_text_ctrl = \"I feel\"\n",
    "control_code = \"Food\"\n",
    "max_length = 30\n",
    "num_return_sequences = 5\n",
    "temperature = 0.9\n",
    "p = 0.9\n"
   ]
  },
  {
   "cell_type": "code",
   "execution_count": 25,
   "metadata": {},
   "outputs": [
    {
     "name": "stdout",
     "output_type": "stream",
     "text": [
      "CTRL Control code: Feminism\n",
      "--------------------------------------------------\n",
      "0: Feminism I feel guilty for feeling this way. It also feels like I'm the only person with an issue with it.     Has anyone else had any experience with\n",
      "1: Feminism I feel guilty because of the fact that I'm not actively working on myself at the moment.     I feel really sad when I'm sad about things and\n",
      "2: Feminism I feel like I've lost a friend and I've been trying to get her to text me back for a month now. I miss her so much. I feel\n",
      "3: Feminism I feel like this is an important part of my journey to self-acceptance, but is there a way to find the strength to not let my weight get\n",
      "4: Feminism I feel like I'm the only one. I have no friends here, and I'm very lonely.       Edit: I just wanted to add that I am\n",
      "Wall time: 23.8 s\n"
     ]
    }
   ],
   "source": [
    "%%time\n",
    "\n",
    "input_text_control_code = f\"{control_code} {input_text_ctrl}\"\n",
    "\n",
    "outputs = generator_ctrl(input_text_control_code,  \n",
    "                         max_length=max_length, \n",
    "                         temperature=float(temperature),\n",
    "                         do_sample = True,\n",
    "                        num_return_sequences=num_return_sequences,\n",
    "                        pad_token_id = 50256,\n",
    "                        top_p = p,\n",
    "                       )\n",
    "\n",
    "print(f\"CTRL Control code: {control_code}\\n\"+50*\"-\")\n",
    "display_text(outputs)"
   ]
  },
  {
   "cell_type": "markdown",
   "metadata": {},
   "source": [
    "## Generate Text with Controlled Sentiment\n",
    "\n",
    "For the `Rating` control code, you can add a number between 1 and 5 to produce text with a negative or positive sentiment."
   ]
  },
  {
   "cell_type": "code",
   "execution_count": 30,
   "metadata": {},
   "outputs": [],
   "source": [
    "input_text_ctrl = \"I feel\"\n",
    "control_code = \"Review Rating: 5.0\"\n",
    "max_length = 30\n",
    "num_return_sequences = 5\n",
    "temperature = 1.2\n",
    "p = 0.9\n",
    "\n"
   ]
  },
  {
   "cell_type": "code",
   "execution_count": 31,
   "metadata": {},
   "outputs": [
    {
     "name": "stdout",
     "output_type": "stream",
     "text": [
      "CTRL Control code: Review Rating: 5.0\n",
      "--------------------------------------------------\n",
      "0: Review Rating: 5.0 I feel comfortable in reviewing   Rating: 4.0   It's a cute storyI love this story that the world love so much . .\n",
      "1: Review Rating: 5.0 I feel bad that I hate it:-::   Rating: 3.0   I would recomend this book for young kids.\n",
      "2: Review Rating: 5.0 I feel like I have discovered a long forgotten part of my family history.The The The The the the the t e o . .The\n",
      "3: Review Rating: 5.0 I feel this is a review to let everyone know what was on the first DVD. SecondThe is a re-release of the original theatrical release\n",
      "4: Review Rating: 5.0 I feel in love with the city :&#34;   Rating: 5.0   I LOVE this song, album this this it t s\n"
     ]
    }
   ],
   "source": [
    "%%time\n",
    "\n",
    "input_text_control_code = f\"{control_code} {input_text_ctrl}\"\n",
    "outputs = generator_ctrl(input_text_control_code,  \n",
    "                         max_length=max_length, \n",
    "                         temperature=float(temperature),\n",
    "                         do_sample = True,\n",
    "                        num_return_sequences=num_return_sequences,\n",
    "                        pad_token_id = 50256,\n",
    "                        top_p = p,\n",
    "                       )\n",
    "\n",
    "print(f\"CTRL Control code: {control_code}\\n\"+50*\"-\")\n",
    "display_text(outputs)"
   ]
  },
  {
   "cell_type": "markdown",
   "metadata": {},
   "source": [
    "## Mix Topic and Sentiment\n",
    "\n",
    "We can append multiple control codes to create text about a topic with a given sentiment"
   ]
  },
  {
   "cell_type": "code",
   "execution_count": 34,
   "metadata": {},
   "outputs": [],
   "source": [
    "input_text_ctrl = \"This restaurant\"\n",
    "\n",
    "control_code = \"Food Review Rating: 5.0\"\n",
    "max_length = 30\n",
    "num_return_sequences = 5\n",
    "temperature = 0.9\n",
    "p = 0.9\n"
   ]
  },
  {
   "cell_type": "code",
   "execution_count": 35,
   "metadata": {},
   "outputs": [
    {
     "name": "stdout",
     "output_type": "stream",
     "text": [
      "CTRL Control code: Food Review Rating: 5.0\n",
      "--------------------------------------------------\n",
      "0: Food Review Rating: 5.0 This restaurant is amazing. It has great food and the ambiance is perfect. It is small but it is very convenient to go out\n",
      "1: Food Review Rating: 5.0 This restaurant has been reviewed in the New York Times and was named one of the top ten restaurants in the United States by Food\n",
      "2: Food Review Rating: 5.0 This restaurant has been a hit every time I've been there. The service is amazing. The food is outstanding. This is a great place\n",
      "3: Food Review Rating: 5.0 This restaurant has some of the best pizza I've ever had. And they don't even have to go through the pizzeri- - -\n",
      "4: Food Review Rating: 5.0 This restaurant was an excellent place to have a meal and a great time watching the game.   Rating: 5.0   As always when\n",
      "Wall time: 15.1 s\n"
     ]
    }
   ],
   "source": [
    "%%time\n",
    "\n",
    "input_text_control_code = f\"{control_code} {input_text_ctrl}\"\n",
    "outputs = generator_ctrl(input_text_control_code,  \n",
    "                         max_length=max_length, \n",
    "                         temperature=float(temperature),\n",
    "                         do_sample = True,\n",
    "                        num_return_sequences=num_return_sequences,\n",
    "                        pad_token_id = 50256,\n",
    "                        top_p = p,\n",
    "                       )\n",
    "\n",
    "print(f\"CTRL Control code: {control_code}\\n\"+50*\"-\")\n",
    "display_text(outputs)"
   ]
  },
  {
   "cell_type": "code",
   "execution_count": 36,
   "metadata": {},
   "outputs": [
    {
     "name": "stdout",
     "output_type": "stream",
     "text": [
      "CTRL Control code: Food Review Rating: 1.0\n",
      "--------------------------------------------------\n",
      "0: Food Review Rating: 1.0 This restaurant was great when it first opened. It was a little out of the way but then came the new place that has a\n",
      "1: Food Review Rating: 1.0 This restaurant is not the one you are looking for. It is a chain burger joint. No matter what you order, the food will never\n",
      "2: Food Review Rating: 1.0 This restaurant only serves 3 meals a day and has 4 different wine listings: Red Zinfandel Vino, and a white\n",
      "3: Food Review Rating: 1.0 This restaurant is a terrible place for children. We were there for my son's birthday and I had to give the children their napkins.\n",
      "4: Food Review Rating: 1.0 This restaurant was supposed to be an upscale steakhouse. The food was overcooked and the service was rude. I recommend a meal at\n"
     ]
    }
   ],
   "source": [
    "input_text_ctrl = \"This restaurant\"\n",
    "\n",
    "control_code = \"Food Review Rating: 1.0\"\n",
    "\n",
    "input_text_control_code = f\"{control_code} {input_text_ctrl}\"\n",
    "outputs = generator_ctrl(input_text_control_code,  \n",
    "                         max_length=max_length, \n",
    "                         temperature=float(temperature),\n",
    "                         do_sample = True,\n",
    "                        num_return_sequences=num_return_sequences,\n",
    "                        pad_token_id = 50256,\n",
    "                        top_p = p,\n",
    "                       )\n",
    "\n",
    "print(f\"CTRL Control code: {control_code}\\n\"+50*\"-\")\n",
    "display_text(outputs)"
   ]
  },
  {
   "cell_type": "code",
   "execution_count": null,
   "metadata": {},
   "outputs": [],
   "source": []
  }
 ],
 "metadata": {
  "kernelspec": {
   "display_name": "Python 3",
   "language": "python",
   "name": "python3"
  },
  "language_info": {
   "codemirror_mode": {
    "name": "ipython",
    "version": 3
   },
   "file_extension": ".py",
   "mimetype": "text/x-python",
   "name": "python",
   "nbconvert_exporter": "python",
   "pygments_lexer": "ipython3",
   "version": "3.7.2"
  }
 },
 "nbformat": 4,
 "nbformat_minor": 2
}
